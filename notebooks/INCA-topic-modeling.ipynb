{
 "cells": [
  {
   "cell_type": "code",
   "execution_count": 1,
   "metadata": {},
   "outputs": [],
   "source": [
    "%matplotlib inline\n",
    "import pandas as pd\n",
    "import numpy as np\n",
    "import os"
   ]
  },
  {
   "cell_type": "code",
   "execution_count": 5,
   "metadata": {},
   "outputs": [],
   "source": [
    "path_to_data = '/home/dafne/shared/FilterBubble/INCA/'\n",
    "\n",
    "data = pd.read_csv(os.path.join(path_to_data, 'INCA_klimaat.csv'), index_col=0)"
   ]
  },
  {
   "cell_type": "code",
   "execution_count": 20,
   "metadata": {},
   "outputs": [
    {
     "data": {
      "text/plain": [
       "(239, 4)"
      ]
     },
     "execution_count": 20,
     "metadata": {},
     "output_type": "execute_result"
    }
   ],
   "source": [
    "data.shape"
   ]
  },
  {
   "cell_type": "markdown",
   "metadata": {},
   "source": [
    "## Topic modeling"
   ]
  },
  {
   "cell_type": "code",
   "execution_count": 25,
   "metadata": {},
   "outputs": [],
   "source": [
    "from sklearn.feature_extraction.text import CountVectorizer\n",
    "from sklearn.feature_extraction.text import TfidfTransformer\n",
    "from sklearn.decomposition import LatentDirichletAllocation, NMF"
   ]
  },
  {
   "cell_type": "code",
   "execution_count": 8,
   "metadata": {},
   "outputs": [],
   "source": [
    "corpus = data['text']"
   ]
  },
  {
   "cell_type": "code",
   "execution_count": 10,
   "metadata": {},
   "outputs": [],
   "source": [
    "vect = CountVectorizer(min_df=5, max_df=0.9)\n",
    "tfidf = TfidfTransformer()"
   ]
  },
  {
   "cell_type": "code",
   "execution_count": 11,
   "metadata": {},
   "outputs": [],
   "source": [
    "X = vect.fit_transform(corpus)\n",
    "X_tfidf = tfidf.fit_transform(X)"
   ]
  },
  {
   "cell_type": "code",
   "execution_count": null,
   "metadata": {},
   "outputs": [],
   "source": [
    "tf_feature_names = vect.get_feature_names()"
   ]
  },
  {
   "cell_type": "code",
   "execution_count": 23,
   "metadata": {},
   "outputs": [],
   "source": [
    "def print_top_words(model, feature_names, n_top_words):\n",
    "    for topic_idx, topic in enumerate(model.components_):\n",
    "        message = \"Topic #%d: \" % topic_idx\n",
    "        message += \" \".join([feature_names[i]\n",
    "                             for i in topic.argsort()[:-n_top_words - 1:-1]])\n",
    "        print(message)\n",
    "    print()"
   ]
  },
  {
   "cell_type": "code",
   "execution_count": 29,
   "metadata": {},
   "outputs": [],
   "source": [
    "nr_topics = 10"
   ]
  },
  {
   "cell_type": "code",
   "execution_count": 30,
   "metadata": {},
   "outputs": [],
   "source": [
    "lda = LatentDirichletAllocation(n_components=nr_topics, random_state=0, max_iter=5,\n",
    "                                learning_method='online',\n",
    "                                learning_offset=50.).fit(X_tfidf)"
   ]
  },
  {
   "cell_type": "code",
   "execution_count": 31,
   "metadata": {},
   "outputs": [
    {
     "name": "stdout",
     "output_type": "stream",
     "text": [
      "Topic #0: vertraging verliest nodig voorziet volgende blijven ipcc kleur kuub denken\n",
      "Topic #1: dat rutte echter vormen olie eventuele vallen duizend ze niet\n",
      "Topic #2: zuid afgelopen 500 zorg broeikasgassen zogeheten energietransitie ooit dus hele\n",
      "Topic #3: wil deden haag noordzee om al zetels niet weten heffing\n",
      "Topic #4: nooit stand energietransitie dat thunberg meer zich stuk hebben zweedse\n",
      "Topic #5: dat foto donderdag zijn trump om verkiezingen euro ook land\n",
      "Topic #6: dat zijn die niet er ook om als aan maar\n",
      "Topic #7: weleens veroorzaakt speciale uitkomst regenval extreme protesten willen huidige me\n",
      "Topic #8: november reis reden miljard konden handelsoorlog vindt ontdekten urgenda ondertekend\n",
      "Topic #9: dat hij die we vergeleken zelfs halen als opgenomen samen\n",
      "\n"
     ]
    }
   ],
   "source": [
    "print_top_words(lda, tf_feature_names, 10)"
   ]
  },
  {
   "cell_type": "code",
   "execution_count": 32,
   "metadata": {},
   "outputs": [
    {
     "name": "stdout",
     "output_type": "stream",
     "text": [
      "Topic #0: dat die zijn er niet ook als maar aan om\n",
      "Topic #1: co2 urgenda pbl kabinet 2020 wiebes maatregelen uitstoot klimaatakkoord planbureau\n",
      "Topic #2: foto afp anp selecteert springende beelden oog willem nl hoofdstad\n",
      "Topic #3: je ik ben mijn eten wat heb we vlees niet\n",
      "Topic #4: partij fvd vvd pvda partijen coalitie zetels cda verkiezingen groenlinks\n",
      "Topic #5: gesprek youth for scholieren climate rutte klimaatspijbelaars jongeren ze premier\n",
      "Topic #6: gaswinning groningen wiebes gas kuub minister miljard economische gewonnen zaken\n",
      "Topic #7: ijs zee groenland noordpool opwarming ijskap antarctica smelt gletsjers rond\n",
      "Topic #8: trump president amerikaanse donald franse macron hij zijn iran leiders\n",
      "Topic #9: consumenten cbs consumptie punten januari vertrouwen economie twaalf huishoudens februari\n",
      "\n"
     ]
    }
   ],
   "source": [
    "nmf = NMF(n_components=nr_topics, random_state=1,  alpha=.1, l1_ratio=.5).fit(X_tfidf)\n",
    "print_top_words(nmf, tf_feature_names, 10)"
   ]
  },
  {
   "cell_type": "code",
   "execution_count": 33,
   "metadata": {},
   "outputs": [],
   "source": [
    "X_topics = nmf.transform(X_tfidf)"
   ]
  },
  {
   "cell_type": "code",
   "execution_count": 40,
   "metadata": {},
   "outputs": [],
   "source": [
    "data['topic'] = np.argmax(X_topics, axis=1)"
   ]
  },
  {
   "cell_type": "code",
   "execution_count": 42,
   "metadata": {},
   "outputs": [
    {
     "data": {
      "text/html": [
       "<div>\n",
       "<style scoped>\n",
       "    .dataframe tbody tr th:only-of-type {\n",
       "        vertical-align: middle;\n",
       "    }\n",
       "\n",
       "    .dataframe tbody tr th {\n",
       "        vertical-align: top;\n",
       "    }\n",
       "\n",
       "    .dataframe thead th {\n",
       "        text-align: right;\n",
       "    }\n",
       "</style>\n",
       "<table border=\"1\" class=\"dataframe\">\n",
       "  <thead>\n",
       "    <tr style=\"text-align: right;\">\n",
       "      <th></th>\n",
       "      <th>title</th>\n",
       "      <th>topic</th>\n",
       "    </tr>\n",
       "  </thead>\n",
       "  <tbody>\n",
       "    <tr>\n",
       "      <th>1</th>\n",
       "      <td>'Lage prijs nieuwe producten hindert circulair...</td>\n",
       "      <td>0</td>\n",
       "    </tr>\n",
       "    <tr>\n",
       "      <th>2</th>\n",
       "      <td>Raad van State buigt zich 17 januari na spoedv...</td>\n",
       "      <td>6</td>\n",
       "    </tr>\n",
       "    <tr>\n",
       "      <th>3</th>\n",
       "      <td>Planbureau: Staat haalt klimaatdoelen niet, ui...</td>\n",
       "      <td>1</td>\n",
       "    </tr>\n",
       "    <tr>\n",
       "      <th>4</th>\n",
       "      <td>Consumentenvertrouwen flink omlaag: Is dat erg?</td>\n",
       "      <td>9</td>\n",
       "    </tr>\n",
       "    <tr>\n",
       "      <th>5</th>\n",
       "      <td>Topman Tata Steel: Staalconcern moet deuren sl...</td>\n",
       "      <td>0</td>\n",
       "    </tr>\n",
       "    <tr>\n",
       "      <th>...</th>\n",
       "      <td>...</td>\n",
       "      <td>...</td>\n",
       "    </tr>\n",
       "    <tr>\n",
       "      <th>235</th>\n",
       "      <td>Keizerspinguïn zal uitsterven als huidige klim...</td>\n",
       "      <td>0</td>\n",
       "    </tr>\n",
       "    <tr>\n",
       "      <th>236</th>\n",
       "      <td>Oudste en dikste Noordpoolijs smelt nu ook</td>\n",
       "      <td>7</td>\n",
       "    </tr>\n",
       "    <tr>\n",
       "      <th>237</th>\n",
       "      <td>Wiebes snapt zorgen over biomassa, maar vindt ...</td>\n",
       "      <td>0</td>\n",
       "    </tr>\n",
       "    <tr>\n",
       "      <th>238</th>\n",
       "      <td>Middelbare scholieren Haarlem gaan eigen jonge...</td>\n",
       "      <td>0</td>\n",
       "    </tr>\n",
       "    <tr>\n",
       "      <th>239</th>\n",
       "      <td>'Jane Fonda laat zich niet meer arresteren uit...</td>\n",
       "      <td>0</td>\n",
       "    </tr>\n",
       "  </tbody>\n",
       "</table>\n",
       "<p>239 rows × 2 columns</p>\n",
       "</div>"
      ],
      "text/plain": [
       "                                                 title  topic\n",
       "1    'Lage prijs nieuwe producten hindert circulair...      0\n",
       "2    Raad van State buigt zich 17 januari na spoedv...      6\n",
       "3    Planbureau: Staat haalt klimaatdoelen niet, ui...      1\n",
       "4      Consumentenvertrouwen flink omlaag: Is dat erg?      9\n",
       "5    Topman Tata Steel: Staalconcern moet deuren sl...      0\n",
       "..                                                 ...    ...\n",
       "235  Keizerspinguïn zal uitsterven als huidige klim...      0\n",
       "236         Oudste en dikste Noordpoolijs smelt nu ook      7\n",
       "237  Wiebes snapt zorgen over biomassa, maar vindt ...      0\n",
       "238  Middelbare scholieren Haarlem gaan eigen jonge...      0\n",
       "239  'Jane Fonda laat zich niet meer arresteren uit...      0\n",
       "\n",
       "[239 rows x 2 columns]"
      ]
     },
     "execution_count": 42,
     "metadata": {},
     "output_type": "execute_result"
    }
   ],
   "source": [
    "data[['title', 'topic']]"
   ]
  },
  {
   "cell_type": "code",
   "execution_count": 43,
   "metadata": {},
   "outputs": [
    {
     "data": {
      "text/plain": [
       "0    145\n",
       "4     20\n",
       "1     15\n",
       "5     14\n",
       "6     12\n",
       "3     12\n",
       "2      8\n",
       "8      5\n",
       "7      5\n",
       "9      3\n",
       "Name: topic, dtype: int64"
      ]
     },
     "execution_count": 43,
     "metadata": {},
     "output_type": "execute_result"
    }
   ],
   "source": [
    "data.topic.value_counts()"
   ]
  },
  {
   "cell_type": "code",
   "execution_count": null,
   "metadata": {},
   "outputs": [],
   "source": []
  }
 ],
 "metadata": {
  "kernelspec": {
   "display_name": "Python 3",
   "language": "python",
   "name": "python3"
  },
  "language_info": {
   "codemirror_mode": {
    "name": "ipython",
    "version": 3
   },
   "file_extension": ".py",
   "mimetype": "text/x-python",
   "name": "python",
   "nbconvert_exporter": "python",
   "pygments_lexer": "ipython3",
   "version": "3.7.5"
  }
 },
 "nbformat": 4,
 "nbformat_minor": 2
}
